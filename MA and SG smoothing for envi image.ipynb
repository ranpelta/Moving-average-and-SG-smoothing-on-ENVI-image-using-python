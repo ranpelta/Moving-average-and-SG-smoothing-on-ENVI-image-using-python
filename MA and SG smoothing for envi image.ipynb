{
 "cells": [
  {
   "cell_type": "code",
   "execution_count": null,
   "metadata": {
    "collapsed": true
   },
   "outputs": [],
   "source": [
    "import spectral as sp\n",
    "import numpy\n",
    "import pysptools.noise as noi\n",
    "\n",
    "img = sp.envi.open(r\"N:\\ACORN_1.hdr\", r\"N:\\ACORN_1\")\n",
    "\n",
    "\n",
    "img = img.load() #load to memory the values of the image\n",
    "new_matrix = numpy.zeros_like(img)\n",
    "\n",
    "#start MA 3\n",
    "weights = numpy.repeat(1.0, 3)/3\n",
    "\n",
    "for i, j in numpy.ndindex(img.shape[0], img.shape[1]): #go thru every pixel for a given i,j for all bands\n",
    "     new_matrix[i, j] = numpy.convolve(img[i,j], weights, 'same')\n",
    "end MA3\n",
    "\n",
    "#start SG\n",
    "a = noi.SavitzkyGolay() #create SG class\\object\n",
    "width_of_window = 13 #must be odd number\n",
    "polynom_order = 2\n",
    "new_matrix1 = a.denoise_spectra(numpy.array(img),width_of_window,polynom_order)  \n",
    "#end SG\n",
    "\n",
    "#save file\n",
    "save_name = r\"N:\\SG12.hdr\"\n",
    "hdr = img.metadata #takes the metadata from the original file\n",
    "sp.envi.save_image(save_name, new_matrix1, metadata=hdr,  interleave = \"bsq\")\n",
    "\n",
    "print \"finish\""
   ]
  }
 ],
 "metadata": {
  "anaconda-cloud": {},
  "kernelspec": {
   "display_name": "Python [Root]",
   "language": "python",
   "name": "Python [Root]"
  },
  "language_info": {
   "codemirror_mode": {
    "name": "ipython",
    "version": 2
   },
   "file_extension": ".py",
   "mimetype": "text/x-python",
   "name": "python",
   "nbconvert_exporter": "python",
   "pygments_lexer": "ipython2",
   "version": "2.7.12"
  }
 },
 "nbformat": 4,
 "nbformat_minor": 0
}
